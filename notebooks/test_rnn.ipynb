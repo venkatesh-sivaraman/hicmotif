{
 "cells": [
  {
   "cell_type": "code",
   "execution_count": 1,
   "metadata": {},
   "outputs": [],
   "source": [
    "%load_ext autoreload\n",
    "%autoreload 2"
   ]
  },
  {
   "cell_type": "code",
   "execution_count": 3,
   "metadata": {},
   "outputs": [
    {
     "name": "stderr",
     "output_type": "stream",
     "text": [
      "Using TensorFlow backend.\n",
      "/Users/venkatesh-sivaraman/anaconda/lib/python3.6/importlib/_bootstrap.py:205: RuntimeWarning: compiletime version 3.5 of module 'tensorflow.python.framework.fast_tensor_util' does not match runtime version 3.6\n",
      "  return f(*args, **kwds)\n"
     ]
    }
   ],
   "source": [
    "import numpy as np\n",
    "import pandas as pd\n",
    "import matplotlib.pyplot as plt\n",
    "import sys\n",
    "sys.path.insert(0, \"../scripts\")\n",
    "import models\n",
    "import rnn\n",
    "import pickle\n",
    "from Bio import SeqIO\n",
    "import os\n",
    "#import main"
   ]
  },
  {
   "cell_type": "markdown",
   "metadata": {},
   "source": [
    "# Test the `RNNModel`"
   ]
  },
  {
   "cell_type": "code",
   "execution_count": 5,
   "metadata": {},
   "outputs": [],
   "source": [
    "base_path = '/Users/venkatesh-sivaraman/Documents/School/MIT/6-047/proj/hicmotif/data/'"
   ]
  },
  {
   "cell_type": "code",
   "execution_count": 7,
   "metadata": {},
   "outputs": [],
   "source": [
    "with open(os.path.join(base_path, 'epigenomic_tracks', 'GM12878.pickle'), 'rb') as file:\n",
    "    id, data = pickle.load(file)"
   ]
  },
  {
   "cell_type": "code",
   "execution_count": 8,
   "metadata": {},
   "outputs": [
    {
     "name": "stdout",
     "output_type": "stream",
     "text": [
      "10:100225000:100425000 10:100225000:100425000\n",
      "200000\n"
     ]
    }
   ],
   "source": [
    "seq = None\n",
    "for record in SeqIO.parse(os.path.join(base_path, 'loop_sequences_GM12878.fasta'), 'fasta'):\n",
    "    print(record.id.replace('chr', ''), id)\n",
    "    if record.id.replace('chr', '') != id: continue\n",
    "    seq = models.Sequence(id, str(record.seq), data)\n",
    "    break\n",
    "\n",
    "print(len(seq.seq))"
   ]
  },
  {
   "cell_type": "code",
   "execution_count": 33,
   "metadata": {},
   "outputs": [],
   "source": [
    "seq_length = 100\n",
    "num_examples = len(seq.seq) // seq_length\n",
    "seq_array = seq.to_array()\n",
    "\n",
    "# Generate num_examples subsequences of length seq_length with replacement\n",
    "X = np.zeros((num_examples, seq_array.shape[0], seq_length))\n",
    "for i in range(num_examples):\n",
    "    start = np.random.randint(0, seq_array.shape[1] - seq_length)\n",
    "    X[i] = seq_array[:,start:start + seq_length]"
   ]
  },
  {
   "cell_type": "code",
   "execution_count": 35,
   "metadata": {
    "scrolled": true
   },
   "outputs": [
    {
     "data": {
      "image/png": "[encoded data removed]",
      "text/plain": [
       "<matplotlib.figure.Figure at 0x12dcd9eb8>"
      ]
     },
     "metadata": {
      "needs_background": "light"
     },
     "output_type": "display_data"
    }
   ],
   "source": [
    "# Look at some of the training examples\n",
    "plt.figure(figsize=(15, 10))\n",
    "for i in range(5):\n",
    "    plt.subplot(5, 1, i + 1)\n",
    "    plt.imshow(X[i], aspect='auto')\n",
    "plt.show()"
   ]
  },
  {
   "cell_type": "code",
   "execution_count": 44,
   "metadata": {},
   "outputs": [],
   "source": [
    "#Generate random y\n",
    "n_labels = 3\n",
    "Y_numerical = np.random.randint(0, n_labels, size=X.shape[0])\n",
    "Y = np.zeros((X.shape[0], n_labels))\n",
    "for i in range(Y_numerical.shape[0]):\n",
    "    Y[i,Y_numerical[i]] = 1"
   ]
  },
  {
   "cell_type": "code",
   "execution_count": 48,
   "metadata": {},
   "outputs": [],
   "source": [
    "model = rnn.RNNModel(sequence_length=seq_length, n_features=X.shape[1], n_labels=n_labels)\n",
    "model.create()"
   ]
  },
  {
   "cell_type": "code",
   "execution_count": 51,
   "metadata": {},
   "outputs": [
    {
     "name": "stdout",
     "output_type": "stream",
     "text": [
      "Epoch 1/5\n",
      "2000/2000 [==============================] - 1s 477us/step - loss: 1.0993 - acc: 0.3355\n",
      "Epoch 2/5\n",
      "2000/2000 [==============================] - 1s 458us/step - loss: 1.0978 - acc: 0.3335\n",
      "Epoch 3/5\n",
      "2000/2000 [==============================] - 1s 459us/step - loss: 1.0978 - acc: 0.3370\n",
      "Epoch 4/5\n",
      "2000/2000 [==============================] - 1s 454us/step - loss: 1.0963 - acc: 0.3710\n",
      "Epoch 5/5\n",
      "2000/2000 [==============================] - 1s 451us/step - loss: 1.0954 - acc: 0.3775\n"
     ]
    }
   ],
   "source": [
    "model.train(X, Y, epochs=5)"
   ]
  },
  {
   "cell_type": "code",
   "execution_count": null,
   "metadata": {},
   "outputs": [],
   "source": [
    "model.model"
   ]
  },
  {
   "cell_type": "code",
   "execution_count": null,
   "metadata": {},
   "outputs": [],
   "source": []
  }
 ],
 "metadata": {
  "kernelspec": {
   "display_name": "Python 3",
   "language": "python",
   "name": "python3"
  },
  "language_info": {
   "codemirror_mode": {
    "name": "ipython",
    "version": 3
   },
   "file_extension": ".py",
   "mimetype": "text/x-python",
   "name": "python",
   "nbconvert_exporter": "python",
   "pygments_lexer": "ipython3",
   "version": "3.6.0"
  }
 },
 "nbformat": 4,
 "nbformat_minor": 2
}
