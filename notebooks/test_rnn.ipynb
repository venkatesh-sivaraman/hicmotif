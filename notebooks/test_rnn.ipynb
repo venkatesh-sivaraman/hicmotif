{
 "cells": [
  {
   "cell_type": "code",
   "execution_count": 1,
   "metadata": {},
   "outputs": [],
   "source": [
    "%load_ext autoreload\n",
    "%autoreload 2"
   ]
  },
  {
   "cell_type": "code",
   "execution_count": 2,
   "metadata": {},
   "outputs": [
    {
     "name": "stderr",
     "output_type": "stream",
     "text": [
      "Using TensorFlow backend.\n",
      "/Users/venkatesh-sivaraman/anaconda/lib/python3.6/importlib/_bootstrap.py:205: RuntimeWarning: compiletime version 3.5 of module 'tensorflow.python.framework.fast_tensor_util' does not match runtime version 3.6\n",
      "  return f(*args, **kwds)\n"
     ]
    }
   ],
   "source": [
    "import numpy as np\n",
    "import pandas as pd\n",
    "import matplotlib.pyplot as plt\n",
    "import sys\n",
    "sys.path.insert(0, \"../scripts\")\n",
    "import models\n",
    "import rnn\n",
    "import pickle\n",
    "from Bio import SeqIO\n",
    "import os\n",
    "#import main"
   ]
  },
  {
   "cell_type": "markdown",
   "metadata": {},
   "source": [
    "# Test the `RNNModel`"
   ]
  },
  {
   "cell_type": "code",
   "execution_count": 3,
   "metadata": {},
   "outputs": [],
   "source": [
    "base_path = '/Users/venkatesh-sivaraman/Documents/School/MIT/6-047/proj/hicmotif/data/'"
   ]
  },
  {
   "cell_type": "code",
   "execution_count": 4,
   "metadata": {},
   "outputs": [],
   "source": [
    "with open(os.path.join(base_path, 'epigenomic_tracks', 'GM12878.pickle'), 'rb') as file:\n",
    "    id, data = pickle.load(file)"
   ]
  },
  {
   "cell_type": "code",
   "execution_count": 5,
   "metadata": {},
   "outputs": [
    {
     "name": "stdout",
     "output_type": "stream",
     "text": [
      "10:100225000:100425000 10:100225000:100425000\n",
      "200000\n"
     ]
    }
   ],
   "source": [
    "seq = None\n",
    "for record in SeqIO.parse(os.path.join(base_path, 'loop_sequences_GM12878.fasta'), 'fasta'):\n",
    "    print(record.id.replace('chr', ''), id)\n",
    "    if record.id.replace('chr', '') != id: continue\n",
    "    seq = models.Sequence(id, str(record.seq), data)\n",
    "    break\n",
    "\n",
    "print(len(seq.seq))"
   ]
  },
  {
   "cell_type": "code",
   "execution_count": 6,
   "metadata": {},
   "outputs": [],
   "source": [
    "seq_length = 100\n",
    "num_examples = len(seq.seq) // seq_length\n",
    "seq_array = seq.to_array()\n",
    "\n",
    "# Generate num_examples subsequences of length seq_length with replacement\n",
    "X = np.zeros((num_examples, seq_array.shape[0], seq_length))\n",
    "for i in range(num_examples):\n",
    "    start = np.random.randint(0, seq_array.shape[1] - seq_length)\n",
    "    X[i] = seq_array[:,start:start + seq_length]"
   ]
  },
  {
   "cell_type": "code",
   "execution_count": 7,
   "metadata": {
    "scrolled": true
   },
   "outputs": [
    {
     "data": {
      "image/png": "[encoded data removed]",
      "text/plain": [
       "<matplotlib.figure.Figure at 0x123e7bb70>"
      ]
     },
     "metadata": {
      "needs_background": "light"
     },
     "output_type": "display_data"
    }
   ],
   "source": [
    "# Look at some of the training examples\n",
    "plt.figure(figsize=(15, 10))\n",
    "for i in range(5):\n",
    "    plt.subplot(5, 1, i + 1)\n",
    "    plt.imshow(X[i], aspect='auto')\n",
    "plt.show()"
   ]
  },
  {
   "cell_type": "code",
   "execution_count": 8,
   "metadata": {},
   "outputs": [],
   "source": [
    "#Generate random y\n",
    "n_labels = 3\n",
    "Y_numerical = np.random.randint(0, n_labels, size=X.shape[0])\n",
    "Y = np.zeros((X.shape[0], n_labels))\n",
    "for i in range(Y_numerical.shape[0]):\n",
    "    Y[i,Y_numerical[i]] = 1"
   ]
  },
  {
   "cell_type": "code",
   "execution_count": 9,
   "metadata": {},
   "outputs": [],
   "source": [
    "model = rnn.RNNModel(sequence_length=seq_length, n_features=X.shape[1], n_labels=n_labels)\n",
    "model.create()"
   ]
  },
  {
   "cell_type": "code",
   "execution_count": 24,
   "metadata": {},
   "outputs": [
    {
     "name": "stdout",
     "output_type": "stream",
     "text": [
      "Epoch 1/25\n",
      "2000/2000 [==============================] - 1s 526us/step - loss: 1.0977 - acc: 0.3440\n",
      "Epoch 2/25\n",
      "2000/2000 [==============================] - 1s 470us/step - loss: 1.0965 - acc: 0.3555\n",
      "Epoch 3/25\n",
      "2000/2000 [==============================] - 1s 479us/step - loss: 1.0945 - acc: 0.3680\n",
      "Epoch 4/25\n",
      "2000/2000 [==============================] - 1s 529us/step - loss: 1.0928 - acc: 0.3690\n",
      "Epoch 5/25\n",
      "2000/2000 [==============================] - 1s 479us/step - loss: 1.0756 - acc: 0.4100\n",
      "Epoch 6/25\n",
      "2000/2000 [==============================] - 1s 448us/step - loss: 1.0283 - acc: 0.4685\n",
      "Epoch 7/25\n",
      "2000/2000 [==============================] - 1s 514us/step - loss: 0.9450 - acc: 0.5400\n",
      "Epoch 8/25\n",
      "2000/2000 [==============================] - 1s 459us/step - loss: 0.8764 - acc: 0.5655\n",
      "Epoch 9/25\n",
      "2000/2000 [==============================] - 1s 521us/step - loss: 0.8037 - acc: 0.6130\n",
      "Epoch 10/25\n",
      "2000/2000 [==============================] - 1s 505us/step - loss: 0.7268 - acc: 0.6570\n",
      "Epoch 11/25\n",
      "2000/2000 [==============================] - 1s 438us/step - loss: 0.7273 - acc: 0.6545\n",
      "Epoch 12/25\n",
      "2000/2000 [==============================] - 1s 551us/step - loss: 0.6199 - acc: 0.7160\n",
      "Epoch 13/25\n",
      "2000/2000 [==============================] - 1s 629us/step - loss: 0.5740 - acc: 0.7350\n",
      "Epoch 14/25\n",
      "2000/2000 [==============================] - 1s 525us/step - loss: 0.5061 - acc: 0.7690\n",
      "Epoch 15/25\n",
      "2000/2000 [==============================] - 1s 604us/step - loss: 0.5624 - acc: 0.7435\n",
      "Epoch 16/25\n",
      "2000/2000 [==============================] - 1s 486us/step - loss: 0.4408 - acc: 0.8015\n",
      "Epoch 17/25\n",
      "2000/2000 [==============================] - 1s 483us/step - loss: 0.3905 - acc: 0.8265\n",
      "Epoch 18/25\n",
      "2000/2000 [==============================] - 1s 462us/step - loss: 0.3848 - acc: 0.8310\n",
      "Epoch 19/25\n",
      "2000/2000 [==============================] - 1s 569us/step - loss: 0.3465 - acc: 0.8535\n",
      "Epoch 20/25\n",
      "2000/2000 [==============================] - 1s 515us/step - loss: 0.3412 - acc: 0.8590\n",
      "Epoch 21/25\n",
      "2000/2000 [==============================] - 1s 509us/step - loss: 0.2618 - acc: 0.8920\n",
      "Epoch 22/25\n",
      "2000/2000 [==============================] - 1s 587us/step - loss: 0.2354 - acc: 0.9070\n",
      "Epoch 23/25\n",
      "2000/2000 [==============================] - 1s 556us/step - loss: 0.2268 - acc: 0.9070\n",
      "Epoch 24/25\n",
      "2000/2000 [==============================] - 1s 542us/step - loss: 0.2067 - acc: 0.9200\n",
      "Epoch 25/25\n",
      "2000/2000 [==============================] - 1s 512us/step - loss: 0.2165 - acc: 0.9140\n"
     ]
    }
   ],
   "source": [
    "model.train(X, Y, epochs=25)"
   ]
  },
  {
   "cell_type": "code",
   "execution_count": 11,
   "metadata": {},
   "outputs": [
    {
     "data": {
      "text/plain": [
       "<keras.models.Sequential at 0x123e7ba90>"
      ]
     },
     "execution_count": 11,
     "metadata": {},
     "output_type": "execute_result"
    }
   ],
   "source": [
    "model.model"
   ]
  },
  {
   "cell_type": "code",
   "execution_count": 25,
   "metadata": {},
   "outputs": [
    {
     "data": {
      "text/plain": [
       "<matplotlib.image.AxesImage at 0x12a8b0240>"
      ]
     },
     "execution_count": 25,
     "metadata": {},
     "output_type": "execute_result"
    },
    {
     "data": {
      "image/png": "[encoded data removed]",
      "text/plain": [
       "<matplotlib.figure.Figure at 0x12aeeee80>"
      ]
     },
     "metadata": {
      "needs_background": "light"
     },
     "output_type": "display_data"
    }
   ],
   "source": [
    "Y_pred = model.model.predict(X)\n",
    "Y_pred = np.where(Y_pred == np.max(Y_pred, axis=1).reshape(-1, 1), 1, 0)\n",
    "plt.imshow(np.hstack([Y, Y_pred]), aspect='auto')"
   ]
  },
  {
   "cell_type": "code",
   "execution_count": null,
   "metadata": {},
   "outputs": [],
   "source": []
  }
 ],
 "metadata": {
  "kernelspec": {
   "display_name": "Python 3",
   "language": "python",
   "name": "python3"
  },
  "language_info": {
   "codemirror_mode": {
    "name": "ipython",
    "version": 3
   },
   "file_extension": ".py",
   "mimetype": "text/x-python",
   "name": "python",
   "nbconvert_exporter": "python",
   "pygments_lexer": "ipython3",
   "version": "3.6.0"
  }
 },
 "nbformat": 4,
 "nbformat_minor": 2
}
