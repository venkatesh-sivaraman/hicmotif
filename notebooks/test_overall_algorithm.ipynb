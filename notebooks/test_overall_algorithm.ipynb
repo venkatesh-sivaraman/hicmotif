{
 "cells": [
  {
   "cell_type": "code",
   "execution_count": 14,
   "metadata": {},
   "outputs": [
    {
     "name": "stdout",
     "output_type": "stream",
     "text": [
      "The autoreload extension is already loaded. To reload it, use:\n",
      "  %reload_ext autoreload\n"
     ]
    }
   ],
   "source": [
    "%load_ext autoreload\n",
    "%autoreload 2"
   ]
  },
  {
   "cell_type": "code",
   "execution_count": 15,
   "metadata": {},
   "outputs": [],
   "source": [
    "import numpy as np\n",
    "import pandas as pd\n",
    "import matplotlib.pyplot as plt\n",
    "import sys\n",
    "sys.path.insert(0, \"../scripts\")\n",
    "import models\n",
    "import pickle\n",
    "from Bio import SeqIO\n",
    "from main import *"
   ]
  },
  {
   "cell_type": "code",
   "execution_count": 16,
   "metadata": {},
   "outputs": [
    {
     "name": "stdout",
     "output_type": "stream",
     "text": [
      "Reading histone data...\n",
      "Reading sequence data...\n",
      "Reading Hi-C data...\n",
      "Sequence object not found for sequence 10:49865000:50015000\n",
      "Sequence object not found for sequence 10:50620000:50725000\n",
      "Sequence object not found for sequence 10:52190000:52270000\n",
      "Sequence object not found for sequence 10:54070000:54250000\n",
      "Sequence object not found for sequence 10:54400000:54550000\n",
      "Sequence object not found for sequence 10:54405000:54485000\n",
      "Sequence object not found for sequence 10:5485000:5625000\n",
      "Sequence object not found for sequence 10:5485000:5670000\n",
      "Sequence object not found for sequence 10:56850000:57030000\n",
      "Sequence object not found for sequence 10:59945000:60050000\n",
      "Sequence object not found for sequence 10:6055000:6130000\n",
      "Sequence object not found for sequence 10:60710000:61005000\n",
      "Sequence object not found for sequence 10:60710000:60940000\n",
      "Sequence object not found for sequence 10:61385000:61570000\n",
      "Sequence object not found for sequence 10:6150000:6245000\n",
      "Sequence object not found for sequence 10:61995000:62195000\n",
      "Sequence object not found for sequence 10:6240000:6445000\n",
      "Sequence object not found for sequence 10:62570000:62730000\n",
      "Sequence object not found for sequence 10:62895000:63050000\n",
      "Sequence object not found for sequence 10:63655000:63810000\n",
      "Sequence object not found for sequence 10:63805000:64005000\n",
      "Sequence object not found for sequence 10:64370000:64575000\n",
      "Sequence object not found for sequence 10:6460000:6725000\n",
      "Sequence object not found for sequence 10:69280000:69540000\n",
      "Sequence object not found for sequence 10:69455000:69540000\n",
      "Sequence object not found for sequence 10:69975000:70060000\n",
      "Sequence object not found for sequence 10:70750000:70985000\n",
      "Sequence object not found for sequence 10:70760000:70855000\n",
      "Sequence object not found for sequence 10:70990000:71150000\n",
      "Sequence object not found for sequence 10:70995000:71270000\n",
      "Sequence object not found for sequence 10:71170000:71270000\n",
      "Sequence object not found for sequence 10:71170000:71400000\n",
      "Sequence object not found for sequence 10:71275000:71400000\n",
      "Sequence object not found for sequence 10:7160000:7460000\n",
      "Sequence object not found for sequence 10:71985000:72125000\n",
      "Sequence object not found for sequence 10:72030000:72125000\n",
      "Sequence object not found for sequence 10:72220000:72300000\n",
      "Sequence object not found for sequence 10:72305000:72525000\n",
      "Sequence object not found for sequence 10:72570000:72645000\n",
      "Sequence object not found for sequence 10:72680000:72975000\n",
      "Sequence object not found for sequence 10:73070000:73335000\n",
      "Sequence object not found for sequence 10:73140000:73335000\n",
      "Sequence object not found for sequence 10:73715000:73810000\n",
      "Sequence object not found for sequence 10:73810000:74100000\n",
      "Sequence object not found for sequence 10:73890000:74100000\n",
      "Sequence object not found for sequence 10:73985000:74100000\n",
      "Sequence object not found for sequence 10:75290000:75405000\n",
      "Sequence object not found for sequence 10:75605000:75700000\n",
      "Sequence object not found for sequence 10:75640000:75845000\n",
      "Sequence object not found for sequence 10:7570000:7730000\n",
      "Sequence object not found for sequence 10:76870000:76995000\n",
      "Sequence object not found for sequence 10:79475000:79600000\n",
      "Sequence object not found for sequence 10:81135000:81230000\n",
      "Sequence object not found for sequence 10:81900000:81980000\n",
      "Sequence object not found for sequence 10:82450000:82690000\n",
      "Sequence object not found for sequence 10:84570000:84730000\n",
      "Sequence object not found for sequence 10:85900000:86090000\n",
      "Sequence object not found for sequence 10:86025000:86305000\n",
      "Sequence object not found for sequence 10:86130000:86305000\n",
      "Sequence object not found for sequence 10:86300000:86480000\n",
      "Sequence object not found for sequence 10:88155000:88350000\n",
      "Sequence object not found for sequence 10:88460000:88655000\n",
      "Sequence object not found for sequence 10:89620000:89830000\n",
      "Sequence object not found for sequence 10:89620000:89875000\n",
      "Sequence object not found for sequence 10:90030000:90150000\n",
      "Sequence object not found for sequence 10:90330000:90575000\n",
      "Sequence object not found for sequence 10:90595000:90695000\n",
      "Sequence object not found for sequence 10:90695000:90975000\n",
      "Sequence object not found for sequence 10:90790000:90975000\n",
      "Sequence object not found for sequence 10:91020000:91135000\n",
      "Sequence object not found for sequence 10:91185000:91325000\n",
      "Sequence object not found for sequence 10:92505000:92620000\n",
      "Sequence object not found for sequence 10:92670000:92765000\n",
      "Sequence object not found for sequence 10:92765000:93005000\n",
      "Sequence object not found for sequence 10:93520000:93670000\n",
      "Sequence object not found for sequence 10:93845000:94055000\n",
      "Sequence object not found for sequence 10:94835000:95055000\n",
      "Sequence object not found for sequence 10:94840000:95110000\n",
      "Sequence object not found for sequence 10:95135000:95245000\n",
      "Sequence object not found for sequence 10:95310000:95440000\n",
      "Sequence object not found for sequence 10:96030000:96210000\n",
      "Sequence object not found for sequence 10:96890000:97125000\n",
      "Sequence object not found for sequence 10:96940000:97125000\n",
      "Sequence object not found for sequence 10:97005000:97125000\n",
      "Sequence object not found for sequence 10:97130000:97365000\n",
      "Sequence object not found for sequence 10:97185000:97365000\n",
      "Sequence object not found for sequence 10:97450000:97605000\n",
      "Sequence object not found for sequence 10:97515000:97595000\n",
      "Sequence object not found for sequence 10:97780000:98080000\n",
      "Sequence object not found for sequence 10:97985000:98060000\n",
      "Sequence object not found for sequence 10:98155000:98275000\n",
      "Sequence object not found for sequence 10:98405000:98590000\n",
      "Sequence object not found for sequence 10:98525000:98785000\n",
      "Sequence object not found for sequence 10:98830000:98970000\n",
      "Sequence object not found for sequence 10:99215000:99310000\n",
      "Sequence object not found for sequence 10:99550000:99630000\n",
      "Sequence object not found for sequence 10:99675000:99805000\n",
      "Sequence object not found for sequence 1:100270000:100505000\n",
      "Sequence object not found for sequence 1:101775000:101905000\n",
      "Sequence object not found for sequence 1:1050000:1190000\n",
      "Sequence object not found for sequence 1:107500000:107690000\n",
      "Sequence object not found for sequence 1:107600000:107690000\n",
      "Sequence object not found for sequence 1:107825000:108075000\n",
      "Sequence object not found for sequence 1:107970000:108075000\n",
      "Sequence object not found for sequence 1:109370000:109445000\n",
      "Sequence object not found for sequence 1:109370000:109655000\n",
      "Sequence object not found for sequence 1:109805000:110075000\n",
      "Sequence object not found for sequence 1:109820000:109945000\n",
      "Sequence object not found for sequence 1:109955000:110075000\n",
      "Sequence object not found for sequence 11:100445000:100730000\n",
      "Sequence object not found for sequence 11:100550000:100730000\n",
      "Sequence object not found for sequence 11:100550000:100800000\n",
      "Sequence object not found for sequence 1:110085000:110170000\n",
      "Sequence object not found for sequence 1:110085000:110320000\n",
      "Sequence object not found for sequence 11:101730000:101880000\n",
      "Sequence object not found for sequence 1:110180000:110320000\n",
      "Sequence object not found for sequence 11:102160000:102370000\n",
      "Sequence object not found for sequence 11:102210000:102370000\n",
      "Sequence object not found for sequence 11:102210000:102485000\n",
      "Sequence object not found for sequence 11:102260000:102370000\n",
      "Sequence object not found for sequence 11:10230000:10345000\n",
      "Sequence object not found for sequence 11:102365000:102485000\n",
      "Sequence object not found for sequence 11:102600000:102820000\n",
      "Sequence object not found for sequence 1:110315000:110525000\n",
      "Sequence object not found for sequence 11:103195000:103475000\n",
      "Sequence object not found for sequence 11:103790000:104020000\n",
      "Sequence object not found for sequence 11:10425000:10675000\n",
      "Sequence object not found for sequence 11:107445000:107560000\n",
      "Sequence object not found for sequence 1:110745000:110860000\n",
      "Sequence object not found for sequence 1:110745000:111000000\n",
      "Sequence object not found for sequence 11:107610000:107770000\n",
      "Sequence object not found for sequence 11:10810000:11050000\n",
      "Sequence object not found for sequence 11:108290000:108520000\n",
      "Sequence object not found for sequence 1:110875000:110955000\n",
      "Sequence object not found for sequence 11:10950000:11050000\n",
      "Sequence object not found for sequence 11:109735000:109810000\n",
      "Sequence object not found for sequence 11:109820000:109900000\n",
      "Sequence object not found for sequence 11:109820000:109955000\n",
      "Sequence object not found for sequence 11:110070000:110250000\n",
      "Sequence object not found for sequence 11:110075000:110310000\n",
      "Sequence object not found for sequence 1:111070000:111160000\n",
      "Sequence object not found for sequence 11:111155000:111295000\n",
      "Sequence object not found for sequence 11:111470000:111650000\n",
      "Sequence object not found for sequence 11:111470000:111715000\n",
      "Sequence object not found for sequence 1:111170000:111310000\n",
      "Sequence object not found for sequence 11:111750000:111960000\n",
      "Sequence object not found for sequence 11:111980000:112160000\n",
      "Sequence object not found for sequence 11:112455000:112665000\n",
      "Sequence object not found for sequence 11:113180000:113405000\n",
      "Sequence object not found for sequence 1:111325000:111540000\n",
      "Sequence object not found for sequence 11:113860000:114135000\n",
      "Sequence object not found for sequence 11:114210000:114470000\n",
      "Sequence object not found for sequence 11:115795000:115950000\n",
      "Sequence object not found for sequence 11:116320000:116565000\n",
      "Sequence object not found for sequence 11:116745000:116975000\n",
      "Sequence object not found for sequence 11:116795000:116970000\n",
      "Sequence object not found for sequence 11:117000000:117085000\n",
      "Sequence object not found for sequence 11:117295000:117495000\n",
      "Sequence object not found for sequence 1:111765000:111880000\n",
      "Sequence object not found for sequence 11:117690000:117820000\n",
      "Sequence object not found for sequence 11:117690000:117920000\n",
      "Sequence object not found for sequence 11:117815000:117925000\n",
      "Sequence object not found for sequence 11:11805000:12070000\n",
      "Sequence object not found for sequence 11:118065000:118165000\n",
      "Sequence object not found for sequence 11:118065000:118225000\n",
      "Sequence object not found for sequence 11:119225000:119350000\n",
      "Sequence object not found for sequence 11:120040000:120180000\n",
      "Sequence object not found for sequence 1:112025000:112295000\n",
      "Sequence object not found for sequence 11:120380000:120560000\n",
      "Sequence object not found for sequence 1:112050000:112200000\n",
      "Sequence object not found for sequence 11:12070000:12260000\n",
      "Sequence object not found for sequence 11:12070000:12305000\n",
      "Sequence object not found for sequence 11:121185000:121465000\n",
      "Sequence object not found for sequence 11:122085000:122380000\n",
      "Sequence object not found for sequence 11:122500000:122650000\n",
      "Sequence object not found for sequence 11:122500000:122630000\n",
      "Sequence object not found for sequence 11:122665000:122895000\n",
      "Sequence object not found for sequence 11:122735000:122895000\n",
      "Sequence object not found for sequence 11:122980000:123120000\n",
      "Sequence object not found for sequence 11:123170000:123280000\n",
      "Sequence object not found for sequence 11:123170000:123350000\n",
      "Sequence object not found for sequence 11:123275000:123350000\n",
      "Sequence object not found for sequence 11:123940000:124070000\n",
      "Sequence object not found for sequence 11:124285000:124460000\n",
      "Sequence object not found for sequence 11:124510000:124710000\n",
      "Sequence object not found for sequence 11:124540000:124635000\n",
      "Sequence object not found for sequence 11:124540000:124710000\n",
      "Sequence object not found for sequence 11:124630000:124710000\n",
      "Sequence object not found for sequence 11:124820000:125020000\n",
      "Sequence object not found for sequence 11:125790000:126065000\n",
      "Sequence object not found for sequence 11:12620000:12915000\n",
      "Sequence object not found for sequence 11:126585000:126865000\n",
      "Sequence object not found for sequence 11:127900000:128040000\n",
      "Sequence object not found for sequence 11:128160000:128350000\n",
      "Sequence object not found for sequence 11:128340000:128425000\n",
      "Sequence object not found for sequence 11:128505000:128630000\n",
      "Sequence object not found for sequence 11:128755000:128830000\n",
      "Sequence object not found for sequence 11:128980000:129205000\n",
      "Sequence object not found for sequence 1:112935000:113010000\n",
      "Sequence object not found for sequence 1:112935000:113165000\n",
      "Loaded 100 items - 0 had missing data.\n"
     ]
    }
   ],
   "source": [
    "data = load_data(\"../data/GM12878_10k\", \"../data/loop_sequences_GM12878.fasta\", \"../data/epigenomic_tracks/GM12878.pickle\", test=True)\n",
    "seq_length = 100\n",
    "spacing = 50\n",
    "Rs = [initial_pairwise_interactions(data, 2, seq_length, spacing)]"
   ]
  },
  {
   "cell_type": "code",
   "execution_count": 17,
   "metadata": {
    "scrolled": true
   },
   "outputs": [
    {
     "name": "stdout",
     "output_type": "stream",
     "text": [
      "Initial: [[7 3]\n",
      " [3 6]]\n",
      "(71760, 9, 100)\n",
      "10:11555000:11805000\n",
      "10:101190000:101480000\n",
      "10:103050000:103210000\n",
      "10:27530000:27650000\n",
      "Prediction composition: (array([None], dtype=object), array([1]))\n",
      "10:134035000:134165000\n",
      "10:101190000:101375000\n",
      "10:104590000:104830000\n",
      "10:30705000:30825000\n",
      "10:26895000:27175000\n",
      "10:15470000:15770000\n",
      "10:124100000:124195000\n",
      "10:124055000:124195000\n",
      "10:103600000:103775000\n",
      "10:11555000:11770000\n",
      "10:38140000:38390000\n",
      "10:103360000:103545000\n",
      "10:121505000:121620000\n",
      "10:2970000:3090000\n",
      "10:102430000:102505000\n",
      "10:102970000:103205000\n",
      "(71760, 9, 100) (71760, 2)\n",
      "Epoch 1/10\n",
      "56824/56824 [==============================] - 11s 192us/step - loss: 0.6908 - acc: 0.5148\n",
      "Epoch 2/10\n",
      "56824/56824 [==============================] - 9s 161us/step - loss: 0.6886 - acc: 0.5255\n",
      "Epoch 3/10\n",
      "56824/56824 [==============================] - 9s 155us/step - loss: 0.6863 - acc: 0.5261\n",
      "Epoch 4/10\n",
      "56824/56824 [==============================] - 9s 154us/step - loss: 0.6847 - acc: 0.5287\n",
      "Epoch 5/10\n",
      "56824/56824 [==============================] - 9s 162us/step - loss: 0.6825 - acc: 0.5349\n",
      "Epoch 6/10\n",
      "56824/56824 [==============================] - 9s 159us/step - loss: 0.6815 - acc: 0.5390\n",
      "Epoch 7/10\n",
      "56824/56824 [==============================] - 10s 179us/step - loss: 0.6804 - acc: 0.5452\n",
      "Epoch 8/10\n",
      "56824/56824 [==============================] - 9s 162us/step - loss: 0.6789 - acc: 0.5541\n",
      "Epoch 9/10\n",
      "56824/56824 [==============================] - 9s 162us/step - loss: 0.6771 - acc: 0.5596\n",
      "Epoch 10/10\n",
      "56824/56824 [==============================] - 9s 156us/step - loss: 0.6755 - acc: 0.5665\n",
      "Prediction composition on previously-trained: (array([0, 1]), array([30632, 41128]))\n",
      "10:11555000:11805000\n",
      "10:30705000:30825000\n",
      "10:101190000:101480000\n",
      "10:124100000:124195000\n",
      "10:103050000:103210000\n",
      "10:101190000:101375000\n",
      "10:27530000:27650000\n",
      "10:134035000:134165000\n",
      "10:104590000:104830000\n",
      "10:124055000:124195000\n",
      "10:26895000:27175000\n",
      "10:103360000:103545000\n",
      "10:15470000:15770000\n",
      "10:2970000:3090000\n",
      "10:103600000:103775000\n",
      "10:38140000:38390000\n",
      "10:11555000:11770000\n",
      "10:121505000:121620000\n",
      "10:102430000:102505000\n",
      "10:102970000:103205000\n"
     ]
    }
   ],
   "source": [
    "print(\"Initial:\", Rs[-1])\n",
    "rnn, R = train_iteration(data, Rs[-1], batch_size=20, seq_length=seq_length, spacing=spacing, old_rnn=None)"
   ]
  },
  {
   "cell_type": "code",
   "execution_count": 18,
   "metadata": {},
   "outputs": [
    {
     "data": {
      "text/plain": [
       "array([[5.44793615, 5.32009448],\n",
       "       [5.32010487, 5.2520964 ]])"
      ]
     },
     "execution_count": 18,
     "metadata": {},
     "output_type": "execute_result"
    }
   ],
   "source": [
    "R"
   ]
  },
  {
   "cell_type": "code",
   "execution_count": 91,
   "metadata": {},
   "outputs": [
    {
     "name": "stdout",
     "output_type": "stream",
     "text": [
      "(18590, 9, 100)\n",
      "10:103985000:104240000\n",
      "10:120325000:120480000\n",
      "10:43850000:43955000\n",
      "10:49570000:49865000\n",
      "10:129510000:129655000\n"
     ]
    }
   ],
   "source": [
    "from update_state_assignments import *\n",
    "\n",
    "R = np.array([[7, 3], [3, 6]])\n",
    "n_labels = R.shape[0]\n",
    "\n",
    "# Generate a random batch of data\n",
    "indexes = np.random.choice(len(data), size=(5,), replace=False)\n",
    "batch = [data[i] for i in indexes]\n",
    "X, ranges = generate_X(batch, seq_length=seq_length, spacing=spacing)\n",
    "\n",
    "print(X.shape)\n",
    "# Run DP algorithm\n",
    "coarse_spacing = spacing * 10\n",
    "Y_single = np.zeros((X.shape[0],), dtype=int) # Each element corresponds to one row of X\n",
    "# Vectors corresponding to states for each interaction matrix\n",
    "rnn_iter = (None for _ in ranges)\n",
    "S_mats = []\n",
    "B_mats = []\n",
    "\n",
    "for i, (_, H) in enumerate(batch):\n",
    "    print(H.identifier)\n",
    "    S, B, state_labels = state_asg(H, R, normalized_diff, penalty, coarse_spacing, None, return_matrices=True)\n",
    "    S_mats.append(S)\n",
    "    B_mats.append(B)\n",
    "    # Save the state labels that begin after the first seq_length region\n",
    "    trimmed = interpolate_state_labels(state_labels, coarse_spacing, spacing)[seq_length // spacing:]\n",
    "\n",
    "    start, stop = ranges[i]\n",
    "    #TODO: Don't allow these cases to pass\n",
    "    if trimmed.shape[0] < stop - start:\n",
    "        print(\"Too big:\", trimmed.shape[0], start, stop, stop - start)\n",
    "        continue\n",
    "    # Store predicted state labels in Y vector\n",
    "    Y_single[start:stop] = trimmed[:stop - start]"
   ]
  },
  {
   "cell_type": "code",
   "execution_count": 86,
   "metadata": {},
   "outputs": [],
   "source": [
    "def simulate_H(states, R):\n",
    "    n_states = R.shape[0]\n",
    "    result = np.zeros((len(states), len(states)))\n",
    "    #states_1, states_2 = np.meshgrid(states, states)\n",
    "    for i in range(len(states)):\n",
    "        for j in range(len(states)):\n",
    "            result[i,j] = R[states[i],states[j]]\n",
    "    return result"
   ]
  },
  {
   "cell_type": "code",
   "execution_count": 95,
   "metadata": {},
   "outputs": [
    {
     "name": "stdout",
     "output_type": "stream",
     "text": [
      "0\n",
      "1\n",
      "2\n",
      "3\n",
      "4\n"
     ]
    }
   ],
   "source": [
    "reals = []\n",
    "sims = []\n",
    "for i, (start, stop) in enumerate(ranges):\n",
    "    print(i)\n",
    "    reals.append(batch[i][1].values_grid(spacing))\n",
    "    sims.append(simulate_H(Y_single[start:stop], R))"
   ]
  },
  {
   "cell_type": "code",
   "execution_count": 96,
   "metadata": {
    "scrolled": true
   },
   "outputs": [
    {
     "data": {
      "image/png": "[encoded data removed]",
      "text/plain": [
       "<matplotlib.figure.Figure at 0x126bfee80>"
      ]
     },
     "metadata": {
      "needs_background": "light"
     },
     "output_type": "display_data"
    },
    {
     "data": {
      "image/png": "[encoded data removed]",
      "text/plain": [
       "<matplotlib.figure.Figure at 0x127e9b630>"
      ]
     },
     "metadata": {
      "needs_background": "light"
     },
     "output_type": "display_data"
    },
    {
     "data": {
      "image/png": "[encoded data removed]",
      "text/plain": [
       "<matplotlib.figure.Figure at 0x1279ca4e0>"
      ]
     },
     "metadata": {
      "needs_background": "light"
     },
     "output_type": "display_data"
    },
    {
     "data": {
      "image/png": "[encoded data removed]",
      "text/plain": [
       "<matplotlib.figure.Figure at 0x1279ca780>"
      ]
     },
     "metadata": {
      "needs_background": "light"
     },
     "output_type": "display_data"
    },
    {
     "data": {
      "image/png": "[encoded data removed]",
      "text/plain": [
       "<matplotlib.figure.Figure at 0x12192fb70>"
      ]
     },
     "metadata": {
      "needs_background": "light"
     },
     "output_type": "display_data"
    }
   ],
   "source": [
    "for i, (real, sim) in enumerate(zip(reals, sims)):\n",
    "    plt.figure(figsize=(10, 5))\n",
    "    plt.subplot(1, 2, 1)\n",
    "    plt.imshow(real, aspect='auto')\n",
    "    plt.colorbar()\n",
    "    plt.subplot(1, 2, 2)\n",
    "    plt.imshow(sim, aspect='auto')\n",
    "    plt.colorbar()\n",
    "    plt.show()"
   ]
  },
  {
   "cell_type": "code",
   "execution_count": 94,
   "metadata": {},
   "outputs": [
    {
     "data": {
      "image/png": "[encoded data removed]",
      "text/plain": [
       "<matplotlib.figure.Figure at 0x128d88780>"
      ]
     },
     "metadata": {
      "needs_background": "light"
     },
     "output_type": "display_data"
    }
   ],
   "source": [
    "idx = 4\n",
    "S = S_mats[idx]\n",
    "B = B_mats[idx]\n",
    "plt.figure(figsize=(13, 6))\n",
    "plt.subplot(1, 2, 1)\n",
    "plt.imshow(S, aspect='auto')\n",
    "plt.colorbar()\n",
    "plt.subplot(1, 2, 2)\n",
    "plt.imshow(B, aspect='auto')\n",
    "plt.colorbar()\n",
    "plt.tight_layout()\n",
    "plt.show()"
   ]
  },
  {
   "cell_type": "code",
   "execution_count": 18,
   "metadata": {},
   "outputs": [],
   "source": [
    "def initial_pairwise_interactions(data, n_labels, batch_size=10, bound=0.25):\n",
    "    \"\"\"\n",
    "    Generates an random initial R matrix of dimension n_labels x n_labels given\n",
    "    the data.\n",
    "\n",
    "    data: a list of tuples (Sequence, InteractionMatrix) as generated from\n",
    "        load_data.\n",
    "    batch_size: the number of elements of data to select randomly to use in this\n",
    "        iteration.\n",
    "    \"\"\"\n",
    "    def shear_matrix(ssm):\n",
    "        # Each column shifts one more down\n",
    "        new_ssm = np.zeros(ssm.shape)\n",
    "        for n in range(ssm.shape[0]):\n",
    "            new_ssm[:,n] = np.roll(ssm[:,n], -n)\n",
    "        return new_ssm\n",
    "\n",
    "    batch_H = [shear_matrix(np.log(1+data[i][1].values_grid())) for i in range(batch_size)]\n",
    "#     for mat in batch_H:\n",
    "#         plt.figure()\n",
    "#         plt.imshow(mat)\n",
    "#         plt.show()\n",
    "    diagonal_avg = 0.0\n",
    "    off_diagonal_avg = 0.0\n",
    "    for i in range(len(batch_H)):\n",
    "        H = batch_H[i]\n",
    "        bound_len = int(bound*H.shape[0])\n",
    "        diagonal_avg += np.average(np.concatenate((H[:bound_len//2,:], H[H.shape[0] - bound_len//2:,:])))\n",
    "        off_diagonal_avg += np.average(H[bound_len//2:H.shape[0] - bound_len//2,:])\n",
    "\n",
    "    diagonal_avg /= len(batch_H)\n",
    "    off_diagonal_avg /= len(batch_H)\n",
    "    \n",
    "    print(diagonal_avg / off_diagonal_avg)\n",
    "\n",
    "    R = np.full((n_labels,n_labels), off_diagonal_avg, dtype=float)\n",
    "    np.fill_diagonal(R, diagonal_avg)\n",
    "    return R"
   ]
  },
  {
   "cell_type": "code",
   "execution_count": 20,
   "metadata": {},
   "outputs": [
    {
     "name": "stderr",
     "output_type": "stream",
     "text": [
      "/Users/venkatesh-sivaraman/anaconda/lib/python3.6/site-packages/numpy/lib/function_base.py:356: RuntimeWarning: Mean of empty slice.\n",
      "  avg = a.mean(axis)\n",
      "/Users/venkatesh-sivaraman/anaconda/lib/python3.6/site-packages/numpy/core/_methods.py:85: RuntimeWarning: invalid value encountered in double_scalars\n",
      "  ret = ret.dtype.type(ret / rcount)\n"
     ]
    },
    {
     "name": "stdout",
     "output_type": "stream",
     "text": [
      "nan\n",
      "[[       nan 5.52943126]\n",
      " [5.52943126        nan]]\n",
      "nan\n",
      "[[       nan 5.43993836]\n",
      " [5.43993836        nan]]\n",
      "nan\n",
      "[[       nan 5.39029437]\n",
      " [5.39029437        nan]]\n",
      "nan\n",
      "[[       nan 5.28012317]\n",
      " [5.28012317        nan]]\n",
      "1.2902209771457926\n",
      "[[6.72706748 5.21388785]\n",
      " [5.21388785 6.72706748]]\n",
      "1.2726230011378619\n",
      "[[6.59841997 5.18489762]\n",
      " [5.18489762 6.59841997]]\n",
      "1.2580453129125446\n",
      "[[6.48898954 5.15799349]\n",
      " [5.15799349 6.48898954]]\n",
      "1.2356388360118833\n",
      "[[6.30773322 5.10483568]\n",
      " [5.10483568 6.30773322]]\n",
      "1.2267191964936566\n",
      "[[6.24212095 5.08846765]\n",
      " [5.08846765 6.24212095]]\n",
      "1.2095510584059312\n",
      "[[6.10833397 5.0500836 ]\n",
      " [5.0500836  6.10833397]]\n",
      "1.201031255547186\n",
      "[[6.04713474 5.03495201]\n",
      " [5.03495201 6.04713474]]\n",
      "1.1852304342248627\n",
      "[[5.93370688 5.00637404]\n",
      " [5.00637404 5.93370688]]\n",
      "1.1795232781716718\n",
      "[[5.8941918  4.99709663]\n",
      " [4.99709663 5.8941918 ]]\n",
      "1.1731560383024697\n",
      "[[5.85175456 4.98804453]\n",
      " [4.98804453 5.85175456]]\n",
      "1.1608854186108943\n",
      "[[5.77138721 4.97153907]\n",
      " [4.97153907 5.77138721]]\n",
      "1.150185101667368\n",
      "[[5.70387148 4.95909004]\n",
      " [4.95909004 5.70387148]]\n",
      "1.145202090618149\n",
      "[[5.67024447 4.95130468]\n",
      " [4.95130468 5.67024447]]\n",
      "1.140974118079586\n",
      "[[5.6485741  4.95065927]\n",
      " [4.95065927 5.6485741 ]]\n",
      "1.1357165354084602\n",
      "[[5.61515844 4.94415487]\n",
      " [4.94415487 5.61515844]]\n"
     ]
    }
   ],
   "source": [
    "for bound in np.arange(0.05, 1, 0.05):\n",
    "    R = initial_pairwise_interactions(data, 2, bound=bound)\n",
    "    print(R)"
   ]
  },
  {
   "cell_type": "code",
   "execution_count": null,
   "metadata": {},
   "outputs": [],
   "source": []
  }
 ],
 "metadata": {
  "kernelspec": {
   "display_name": "Python 3",
   "language": "python",
   "name": "python3"
  },
  "language_info": {
   "codemirror_mode": {
    "name": "ipython",
    "version": 3
   },
   "file_extension": ".py",
   "mimetype": "text/x-python",
   "name": "python",
   "nbconvert_exporter": "python",
   "pygments_lexer": "ipython3",
   "version": "3.6.0"
  }
 },
 "nbformat": 4,
 "nbformat_minor": 2
}
